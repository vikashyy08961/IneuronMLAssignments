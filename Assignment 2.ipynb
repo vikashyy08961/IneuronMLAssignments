{
 "cells": [
  {
   "cell_type": "markdown",
   "metadata": {},
   "source": [
    "# Q1"
   ]
  },
  {
   "cell_type": "code",
   "execution_count": 22,
   "metadata": {},
   "outputs": [
    {
     "name": "stdout",
     "output_type": "stream",
     "text": [
      "*\n",
      "**\n",
      "***\n",
      "****\n",
      "*****\n",
      "****\n",
      "***\n",
      "**\n",
      "*\n",
      "\n"
     ]
    }
   ],
   "source": [
    "i=0\n",
    "while i<5:\n",
    "    j=0\n",
    "    while j<i+1:\n",
    "        print(\"*\", end='')\n",
    "        j=j+1\n",
    "    print(end=\"\\n\")    \n",
    "    i=i+1 \n",
    "i=0\n",
    "while i<=4:\n",
    "    j=4\n",
    "    while j>i:\n",
    "        print(\"*\",end='')\n",
    "        j=j-1\n",
    "    print(end='\\n')    \n",
    "    i+=1    \n",
    "        "
   ]
  },
  {
   "cell_type": "code",
   "execution_count": 25,
   "metadata": {},
   "outputs": [
    {
     "name": "stdout",
     "output_type": "stream",
     "text": [
      "Enter the word: ineuron\n",
      "norueni\n"
     ]
    }
   ],
   "source": [
    "word=input('Enter the word: ')\n",
    "print(word[::-1])"
   ]
  }
 ],
 "metadata": {
  "kernelspec": {
   "display_name": "Python 3",
   "language": "python",
   "name": "python3"
  }
 },
 "nbformat": 4,
 "nbformat_minor": 2
}
